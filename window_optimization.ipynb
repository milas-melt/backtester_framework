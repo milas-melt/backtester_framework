{
 "cells": [
  {
   "cell_type": "markdown",
   "id": "03581747-c6d5-417f-86a7-e88df39ffa74",
   "metadata": {},
   "source": [
    "# Best window optimization\n",
    "\n",
    "## Table of content\n",
    "\n",
    "- [Imports](#imports)\n",
    "- [Loading and pre-processing data](#loading)\n",
    "- [Get functions](#functions)\n",
    "- [Best window Optimization Algorithm](#algo)\n",
    "\n",
    "Note: The main section is the last. [Go to the next section](#algo) to understand what is going on in this notebook."
   ]
  },
  {
   "cell_type": "markdown",
   "id": "679d2fc1-e9ff-43d1-b882-2cf1131b27b2",
   "metadata": {},
   "source": [
    "## <a id=\"imports\"></a>Imports"
   ]
  },
  {
   "cell_type": "code",
   "execution_count": null,
   "id": "2495cbb2-c9d3-4994-8a16-daaadffd0518",
   "metadata": {},
   "outputs": [],
   "source": [
    "import pandas as pd\n",
    "import numpy as np\n",
    "import matplotlib.pyplot as plt\n",
    "import seaborn as sns\n",
    "import re\n",
    "import helper"
   ]
  },
  {
   "cell_type": "markdown",
   "id": "aaf2a4c5-4be5-4e7c-9d2b-1abed1e4a192",
   "metadata": {},
   "source": [
    "## <a id=\"loading\"></a>Data loading"
   ]
  },
  {
   "cell_type": "code",
   "execution_count": 1,
   "id": "3f02d0a7",
   "metadata": {},
   "outputs": [
    {
     "name": "stdout",
     "output_type": "stream",
     "text": [
      "CPU times: user 1 µs, sys: 0 ns, total: 1 µs\n",
      "Wall time: 4.05 µs\n"
     ]
    },
    {
     "name": "stderr",
     "output_type": "stream",
     "text": [
      "<ipython-input-1-fae6f177d4f8>:19: FutureWarning: The default value of regex will change from True to False in a future version.\n",
      "  raw_excess_returns.columns = raw_excess_returns.columns.str.replace(r'\\s+', '_').str.upper()\n",
      "/opt/anaconda3/lib/python3.8/site-packages/pandas/core/internals/blocks.py:351: RuntimeWarning: invalid value encountered in log\n",
      "  result = func(self.values, **kwargs)\n"
     ]
    }
   ],
   "source": [
    "%time\n",
    "START_DATE='1969-01-01'\n",
    "END_DATE='2023-05-18'\n",
    "\n",
    "# Load data\n",
    "raw_excess_returns = pd.read_excel('data.xlsx', sheet_name='Return Indices')\n",
    "\n",
    "# Set 'Dates' column as index\n",
    "raw_excess_returns.set_index('Dates', inplace=True)\n",
    "\n",
    "# Replace consecutive spaces with underscores in column names\n",
    "raw_excess_returns.columns = raw_excess_returns.columns.str.replace(r'\\s+', '_').str.upper()\n",
    "\n",
    "# Convert the index to datetime\n",
    "raw_excess_returns.index = pd.to_datetime(raw_excess_returns.index)\n",
    "\n",
    "raw_excess_returns = raw_excess_returns.loc[START_DATE:END_DATE]\n",
    "\n",
    "# divide by 100 returns\n",
    "raw_excess_returns = raw_excess_returns.div(100)-1\n",
    "\n",
    "# replace NaN with 0\n",
    "raw_excess_returns = raw_excess_returns.fillna(0)  \n",
    "\n",
    "# get a list of all the assets\n",
    "assets_list = raw_excess_returns.columns.values\n",
    "\n",
    "# calculate the commodity market factor\n",
    "commodity_market_factor = raw_excess_returns.mean(axis=1).to_frame()\n",
    "commodity_market_factor.index.name = 'Date'\n",
    "commodity_market_factor.rename(columns = {list(commodity_market_factor)[0]: 'commodity_market_factor'}, inplace = True)\n",
    "\n",
    "# # Add the 'commodity_market_factor' column to the DataFrame\n",
    "# raw_excess_returns['commodity_market_factor'] = commodity_market_factor\n",
    "\n",
    "# convert returns to log returns\n",
    "excess_returns = np.log(1+raw_excess_returns)\n",
    "\n",
    "log_commodity_market_factor = np.log(1+commodity_market_factor)\n"
   ]
  },
  {
   "cell_type": "markdown",
   "id": "47de7f12-11c4-402d-ae58-8d4e9deef39d",
   "metadata": {},
   "source": [
    "## <a id=\"functions\"></a>Get functions"
   ]
  },
  {
   "cell_type": "code",
   "execution_count": 2,
   "id": "92f22bde",
   "metadata": {},
   "outputs": [
    {
     "name": "stdout",
     "output_type": "stream",
     "text": [
      "CPU times: user 1 µs, sys: 1 µs, total: 2 µs\n",
      "Wall time: 3.1 µs\n"
     ]
    }
   ],
   "source": [
    "%time\n",
    "def high_low_breakout(excess_returns, window=40):\n",
    "    \"\"\"\n",
    "    Parameters:\n",
    "        excess_returns (pandas.DataFrame)\n",
    "        window (int)\n",
    "        \n",
    "    Returns:\n",
    "        signals (pandas.Dataframe)\n",
    "    \"\"\"\n",
    "\n",
    "    signals = pd.DataFrame(index=excess_returns.index, columns=excess_returns.columns)\n",
    "\n",
    "    for timestamp in excess_returns.index:\n",
    "\n",
    "        for ticker in excess_returns.columns:\n",
    "            signal = 0 # No signal (yet)\n",
    "            current_excess_return = excess_returns.loc[timestamp, ticker]\n",
    "            highest_return = excess_returns[ticker].rolling(window).max().loc[timestamp]\n",
    "            lowest_return = excess_returns[ticker].rolling(window).min().loc[timestamp]\n",
    "\n",
    "            if current_excess_return == highest_return:\n",
    "                signal = 1 # Buy signal\n",
    "\n",
    "            if current_excess_return == lowest_return:\n",
    "                signal = -1 # Sell signal\n",
    "\n",
    "            signals.loc[timestamp, ticker] = signal\n",
    "    return signals\n",
    "\n",
    "def convert_signal_to_position(signals):\n",
    "    \"\"\"\n",
    "    Parameters:\n",
    "        signals (pandas.DataFrame)\n",
    "        \n",
    "    Returns:\n",
    "        converted_signals (pandas.Dataframe)\n",
    "    \"\"\"\n",
    "    converted_signals = pd.DataFrame(index=signals.index, columns=signals.columns)\n",
    "    for col in signals.columns:\n",
    "        new_series = pd.Series(index=signals.index, dtype=int)\n",
    "        position = ''\n",
    "        state = 'hold'\n",
    "        for idx,i in signals[col].items():\n",
    "            if i == 0:\n",
    "                state = 'hold'\n",
    "                new_series[idx] = state\n",
    "            elif i == 1:\n",
    "                if position == 'buy':\n",
    "                    state = 'hold'\n",
    "                    new_series[idx] = state\n",
    "                else:\n",
    "                    position = 'buy'\n",
    "                    state = 'buy'\n",
    "                    new_series[idx] = state\n",
    "            elif i == -1:\n",
    "                if position == 'sell':\n",
    "                    state = 'hold'\n",
    "                    new_series[idx] = state\n",
    "                else:\n",
    "                    position = 'sell'\n",
    "                    state = 'sell'\n",
    "                    new_series[idx] = state\n",
    "        converted_signals[col] = new_series\n",
    "    return converted_signals\n",
    "\n",
    "def calculate_max_drawdown(returns):\n",
    "    \"\"\"\n",
    "    Parameters:\n",
    "        returns (pandas.Series)\n",
    "        \n",
    "    Returns:\n",
    "        (float). refers to max drawdown\n",
    "        drawdown_start_date (datetime64[ns]). format: YYYY-MM-DD.\n",
    "        drawdown_end_date (datetime64[ns]). format: YYYY-MM-DD.\n",
    "    \"\"\"\n",
    "    #check if the returns is a pandas.core.series.Series\n",
    "    if not isinstance(returns, pd.Series):\n",
    "        raise TypeError(\"returns must be a pandas.core.series.Series\")\n",
    "    drawdowns = []\n",
    "    drawdown = returns[0]\n",
    "    maxi = returns[0]\n",
    "    drawdown_end_date = returns.index[0]\n",
    "    drawdown_start_date = returns.index[0]\n",
    "\n",
    "    for date,ret in returns.items():\n",
    "        if ret > maxi: \n",
    "            maxi = ret\n",
    "            drawdown_start_date = returns.index[0]\n",
    "\n",
    "            \n",
    "        if ret < drawdown: \n",
    "            drawdown = ret \n",
    "            drawdown_end_date = date\n",
    "            \n",
    "        drawdowns.append(drawdown)\n",
    "        \n",
    "    return -np.linalg.norm(maxi-drawdown), drawdown_start_date, drawdown_end_date\n",
    "    \n",
    "def calculate_kurtosis(returns):\n",
    "    \"\"\"\n",
    "    Parameters:\n",
    "        returns (pandas.Series)\n",
    "        \n",
    "    Returns:\n",
    "        kurtosis (float)\n",
    "    \"\"\"\n",
    "    \n",
    "    #check if the returns is a pandas.core.series.Series\n",
    "    if not isinstance(returns, pd.Series):\n",
    "        raise TypeError(\"returns must be a pandas.core.series.Series\")\n",
    "\n",
    "    #calculate\n",
    "    kurtosis = returns.kurtosis()\n",
    "\n",
    "    #output\n",
    "    return kurtosis\n",
    "\n",
    "def calculate_skewness(returns):\n",
    "    \"\"\"\n",
    "    Parameters:\n",
    "        returns (pandas.Series)\n",
    "        \n",
    "    Returns:\n",
    "        skewness (float)\n",
    "    \"\"\"\n",
    "    \n",
    "    #check if the returns is a pandas.core.series.Series\n",
    "    if not isinstance(returns, pd.Series):\n",
    "        raise TypeError(\"returns must be a pandas.core.series.Series\")\n",
    "\n",
    "    #calculate\n",
    "    skewness = returns.skew()\n",
    "\n",
    "    #output\n",
    "    return skewness\n",
    "\n",
    "def calculate_win_rate(returns):\n",
    "    \"\"\"\n",
    "    Parameters:\n",
    "        returns (pandas.Series)\n",
    "        \n",
    "    Returns:\n",
    "        win_rate (float)\n",
    "    \"\"\"\n",
    "    #check if the returns is a pandas.core.series.Series\n",
    "    if not isinstance(returns, pd.Series):\n",
    "        raise TypeError(\"returns must be a pandas.core.series.Series\")\n",
    "\n",
    "    #calculate\n",
    "    win_rate = (returns > 0).sum() / len(returns)\n",
    "    # Return the win rate\n",
    "    return win_rate\n",
    "\n",
    "\n",
    "def compute_rolling_table(converted_signals):\n",
    "    \"\"\"\n",
    "    Parameters:\n",
    "        converted_signals (pandas.DataFrame)\n",
    "        \n",
    "    Returns:\n",
    "        rolling_table (pandas.DataFrame)\n",
    "    \"\"\"\n",
    "    \n",
    "    cumulative_returns = pd.Series(0, index=converted_signals.index)\n",
    "    rolling_table = []\n",
    "    pending_tx = {}\n",
    "\n",
    "    for ticker in converted_signals.columns:\n",
    "        opened_or_closed = 'closed'\n",
    "        # filter out hold to only keep buy/sell:\n",
    "        for date, buy_or_sell in converted_signals[ticker][converted_signals[ticker] != 'hold'].items():\n",
    "            if opened_or_closed == 'closed':\n",
    "                opened_or_closed = 'opened'\n",
    "                opened_date = date\n",
    "                pending_tx[ticker] = opened_date\n",
    "                rolling_table.append({\n",
    "                    'Date': opened_date,\n",
    "                    'Ticker': ticker,\n",
    "                    'buy_or_sell': buy_or_sell,\n",
    "                    'opened_or_closed': opened_or_closed,\n",
    "                    'return': 0,\n",
    "                    'max_drawdown': 0,\n",
    "                    'max_drawdown_start_date': None,\n",
    "                    'max_drawdown_end_date': None,\n",
    "                    'kurtosis': 0,\n",
    "                    'skewness': 0,\n",
    "                    'win_rate': 0,\n",
    "                })\n",
    "            elif opened_or_closed == 'opened':\n",
    "\n",
    "                opened_or_closed = 'closed'\n",
    "                opened_date = pending_tx[ticker]\n",
    "                closed_date = date\n",
    "                rolling_table.append({\n",
    "                    'Date': closed_date,\n",
    "                    'Ticker': ticker,\n",
    "                    'buy_or_sell': buy_or_sell,\n",
    "                    'opened_or_closed': opened_or_closed,\n",
    "                    'return': excess_returns[ticker].loc[opened_date:closed_date].sum(),\n",
    "                    'max_drawdown': calculate_max_drawdown(excess_returns[ticker].loc[opened_date:closed_date])[0],\n",
    "                    'max_drawdown_start_date': calculate_max_drawdown(excess_returns[ticker].loc[opened_date:closed_date])[1],\n",
    "                    'max_drawdown_end_date': calculate_max_drawdown(excess_returns[ticker].loc[opened_date:closed_date])[2],\n",
    "                    'kurtosis': calculate_kurtosis(excess_returns[ticker].loc[opened_date:closed_date]),\n",
    "                    'skewness': calculate_skewness(excess_returns[ticker].loc[opened_date:closed_date]),\n",
    "                    'win_rate': calculate_win_rate(excess_returns[ticker].loc[opened_date:closed_date]),\n",
    "                })\n",
    "                del pending_tx[ticker]\n",
    "\n",
    "\n",
    "    rolling_table = pd.DataFrame(rolling_table)\n",
    "    rolling_table = rolling_table.sort_values(by='Date', ascending=True).reset_index(drop=True)\n",
    "    rolling_table['cumulative return'] = rolling_table['return'].cumsum()\n",
    "    return rolling_table"
   ]
  },
  {
   "cell_type": "markdown",
   "id": "97410b01-7da7-4d52-b3a0-74c01a452252",
   "metadata": {},
   "source": [
    "## <a id=\"algo\"></a>Best window Optimization Algorithm\n",
    "The below  is used to export excel files that will be used for further analysis and selection of best window size in our high_low_breakout strategy.\n",
    "The process of selection of best window size is the following:\n",
    "1. create a list of windows (from 5 to 200 with increment 5)\n",
    "2. for each window, \n",
    "    2.a run the strategy \n",
    "    2.b compute the strategy rolling table\n",
    "    2.c compute the strategy performance\n",
    "    2.d merge the performance with the benchmark in one df\n",
    "3. export `rolling_table`, `performance` and `merged_df`"
   ]
  },
  {
   "cell_type": "code",
   "execution_count": 3,
   "id": "0795598b",
   "metadata": {
    "collapsed": true,
    "jupyter": {
     "outputs_hidden": true
    },
    "tags": []
   },
   "outputs": [
    {
     "name": "stdout",
     "output_type": "stream",
     "text": [
      "//========= START OF ITERATION : 5 ========= \\\n",
      "CPU times: user 2 µs, sys: 1 µs, total: 3 µs\n",
      "Wall time: 4.05 µs\n"
     ]
    },
    {
     "name": "stderr",
     "output_type": "stream",
     "text": [
      "<ipython-input-3-59eb44f7b863>:12: UserWarning: Pandas requires version '1.4.3' or newer of 'xlsxwriter' (version '1.3.8' currently installed).\n",
      "  rolling_table.to_excel(f'rolling_table{iter_window}.xlsx')\n"
     ]
    },
    {
     "name": "stdout",
     "output_type": "stream",
     "text": [
      "Excel file created successfully: rolling_table5.xlsx\n"
     ]
    },
    {
     "name": "stderr",
     "output_type": "stream",
     "text": [
      "<ipython-input-3-59eb44f7b863>:17: UserWarning: Pandas requires version '1.4.3' or newer of 'xlsxwriter' (version '1.3.8' currently installed).\n",
      "  performance.to_excel(f'performance{iter_window}.xlsx')\n"
     ]
    },
    {
     "name": "stdout",
     "output_type": "stream",
     "text": [
      "Excel file created successfully: performance5.xlsx\n"
     ]
    },
    {
     "name": "stderr",
     "output_type": "stream",
     "text": [
      "<ipython-input-3-59eb44f7b863>:23: UserWarning: Pandas requires version '1.4.3' or newer of 'xlsxwriter' (version '1.3.8' currently installed).\n",
      "  rolling_table.to_excel(f'merged_df{iter_window}.xlsx')\n"
     ]
    },
    {
     "name": "stdout",
     "output_type": "stream",
     "text": [
      "Excel file created successfully: merged_df5.xlsx\n",
      "//========= END OF ITERATION : 5 ========= \\\n",
      "//========= START OF ITERATION : 10 ========= \\\n",
      "CPU times: user 3 µs, sys: 1 µs, total: 4 µs\n",
      "Wall time: 6.91 µs\n"
     ]
    },
    {
     "name": "stderr",
     "output_type": "stream",
     "text": [
      "<ipython-input-3-59eb44f7b863>:12: UserWarning: Pandas requires version '1.4.3' or newer of 'xlsxwriter' (version '1.3.8' currently installed).\n",
      "  rolling_table.to_excel(f'rolling_table{iter_window}.xlsx')\n"
     ]
    },
    {
     "name": "stdout",
     "output_type": "stream",
     "text": [
      "Excel file created successfully: rolling_table10.xlsx\n"
     ]
    },
    {
     "name": "stderr",
     "output_type": "stream",
     "text": [
      "<ipython-input-3-59eb44f7b863>:17: UserWarning: Pandas requires version '1.4.3' or newer of 'xlsxwriter' (version '1.3.8' currently installed).\n",
      "  performance.to_excel(f'performance{iter_window}.xlsx')\n"
     ]
    },
    {
     "name": "stdout",
     "output_type": "stream",
     "text": [
      "Excel file created successfully: performance10.xlsx\n"
     ]
    },
    {
     "name": "stderr",
     "output_type": "stream",
     "text": [
      "<ipython-input-3-59eb44f7b863>:23: UserWarning: Pandas requires version '1.4.3' or newer of 'xlsxwriter' (version '1.3.8' currently installed).\n",
      "  rolling_table.to_excel(f'merged_df{iter_window}.xlsx')\n"
     ]
    },
    {
     "name": "stdout",
     "output_type": "stream",
     "text": [
      "Excel file created successfully: merged_df10.xlsx\n",
      "//========= END OF ITERATION : 10 ========= \\\n",
      "//========= START OF ITERATION : 15 ========= \\\n",
      "CPU times: user 2 µs, sys: 0 ns, total: 2 µs\n",
      "Wall time: 3.81 µs\n"
     ]
    },
    {
     "name": "stderr",
     "output_type": "stream",
     "text": [
      "<ipython-input-3-59eb44f7b863>:12: UserWarning: Pandas requires version '1.4.3' or newer of 'xlsxwriter' (version '1.3.8' currently installed).\n",
      "  rolling_table.to_excel(f'rolling_table{iter_window}.xlsx')\n"
     ]
    },
    {
     "name": "stdout",
     "output_type": "stream",
     "text": [
      "Excel file created successfully: rolling_table15.xlsx\n"
     ]
    },
    {
     "name": "stderr",
     "output_type": "stream",
     "text": [
      "<ipython-input-3-59eb44f7b863>:17: UserWarning: Pandas requires version '1.4.3' or newer of 'xlsxwriter' (version '1.3.8' currently installed).\n",
      "  performance.to_excel(f'performance{iter_window}.xlsx')\n"
     ]
    },
    {
     "name": "stdout",
     "output_type": "stream",
     "text": [
      "Excel file created successfully: performance15.xlsx\n"
     ]
    },
    {
     "name": "stderr",
     "output_type": "stream",
     "text": [
      "<ipython-input-3-59eb44f7b863>:23: UserWarning: Pandas requires version '1.4.3' or newer of 'xlsxwriter' (version '1.3.8' currently installed).\n",
      "  rolling_table.to_excel(f'merged_df{iter_window}.xlsx')\n"
     ]
    },
    {
     "name": "stdout",
     "output_type": "stream",
     "text": [
      "Excel file created successfully: merged_df15.xlsx\n",
      "//========= END OF ITERATION : 15 ========= \\\n",
      "//========= START OF ITERATION : 20 ========= \\\n",
      "CPU times: user 2 µs, sys: 0 ns, total: 2 µs\n",
      "Wall time: 2.86 µs\n"
     ]
    },
    {
     "name": "stderr",
     "output_type": "stream",
     "text": [
      "<ipython-input-3-59eb44f7b863>:12: UserWarning: Pandas requires version '1.4.3' or newer of 'xlsxwriter' (version '1.3.8' currently installed).\n",
      "  rolling_table.to_excel(f'rolling_table{iter_window}.xlsx')\n"
     ]
    },
    {
     "name": "stdout",
     "output_type": "stream",
     "text": [
      "Excel file created successfully: rolling_table20.xlsx\n"
     ]
    },
    {
     "name": "stderr",
     "output_type": "stream",
     "text": [
      "<ipython-input-3-59eb44f7b863>:17: UserWarning: Pandas requires version '1.4.3' or newer of 'xlsxwriter' (version '1.3.8' currently installed).\n",
      "  performance.to_excel(f'performance{iter_window}.xlsx')\n"
     ]
    },
    {
     "name": "stdout",
     "output_type": "stream",
     "text": [
      "Excel file created successfully: performance20.xlsx\n"
     ]
    },
    {
     "name": "stderr",
     "output_type": "stream",
     "text": [
      "<ipython-input-3-59eb44f7b863>:23: UserWarning: Pandas requires version '1.4.3' or newer of 'xlsxwriter' (version '1.3.8' currently installed).\n",
      "  rolling_table.to_excel(f'merged_df{iter_window}.xlsx')\n"
     ]
    },
    {
     "name": "stdout",
     "output_type": "stream",
     "text": [
      "Excel file created successfully: merged_df20.xlsx\n",
      "//========= END OF ITERATION : 20 ========= \\\n",
      "//========= START OF ITERATION : 25 ========= \\\n",
      "CPU times: user 2 µs, sys: 0 ns, total: 2 µs\n",
      "Wall time: 4.29 µs\n"
     ]
    },
    {
     "name": "stderr",
     "output_type": "stream",
     "text": [
      "<ipython-input-3-59eb44f7b863>:12: UserWarning: Pandas requires version '1.4.3' or newer of 'xlsxwriter' (version '1.3.8' currently installed).\n",
      "  rolling_table.to_excel(f'rolling_table{iter_window}.xlsx')\n"
     ]
    },
    {
     "name": "stdout",
     "output_type": "stream",
     "text": [
      "Excel file created successfully: rolling_table25.xlsx\n"
     ]
    },
    {
     "name": "stderr",
     "output_type": "stream",
     "text": [
      "<ipython-input-3-59eb44f7b863>:17: UserWarning: Pandas requires version '1.4.3' or newer of 'xlsxwriter' (version '1.3.8' currently installed).\n",
      "  performance.to_excel(f'performance{iter_window}.xlsx')\n"
     ]
    },
    {
     "name": "stdout",
     "output_type": "stream",
     "text": [
      "Excel file created successfully: performance25.xlsx\n"
     ]
    },
    {
     "name": "stderr",
     "output_type": "stream",
     "text": [
      "<ipython-input-3-59eb44f7b863>:23: UserWarning: Pandas requires version '1.4.3' or newer of 'xlsxwriter' (version '1.3.8' currently installed).\n",
      "  rolling_table.to_excel(f'merged_df{iter_window}.xlsx')\n"
     ]
    },
    {
     "name": "stdout",
     "output_type": "stream",
     "text": [
      "Excel file created successfully: merged_df25.xlsx\n",
      "//========= END OF ITERATION : 25 ========= \\\n",
      "//========= START OF ITERATION : 30 ========= \\\n",
      "CPU times: user 2 µs, sys: 0 ns, total: 2 µs\n",
      "Wall time: 4.05 µs\n"
     ]
    },
    {
     "name": "stderr",
     "output_type": "stream",
     "text": [
      "<ipython-input-3-59eb44f7b863>:12: UserWarning: Pandas requires version '1.4.3' or newer of 'xlsxwriter' (version '1.3.8' currently installed).\n",
      "  rolling_table.to_excel(f'rolling_table{iter_window}.xlsx')\n"
     ]
    },
    {
     "name": "stdout",
     "output_type": "stream",
     "text": [
      "Excel file created successfully: rolling_table30.xlsx\n"
     ]
    },
    {
     "name": "stderr",
     "output_type": "stream",
     "text": [
      "<ipython-input-3-59eb44f7b863>:17: UserWarning: Pandas requires version '1.4.3' or newer of 'xlsxwriter' (version '1.3.8' currently installed).\n",
      "  performance.to_excel(f'performance{iter_window}.xlsx')\n"
     ]
    },
    {
     "name": "stdout",
     "output_type": "stream",
     "text": [
      "Excel file created successfully: performance30.xlsx\n"
     ]
    },
    {
     "name": "stderr",
     "output_type": "stream",
     "text": [
      "<ipython-input-3-59eb44f7b863>:23: UserWarning: Pandas requires version '1.4.3' or newer of 'xlsxwriter' (version '1.3.8' currently installed).\n",
      "  rolling_table.to_excel(f'merged_df{iter_window}.xlsx')\n"
     ]
    },
    {
     "name": "stdout",
     "output_type": "stream",
     "text": [
      "Excel file created successfully: merged_df30.xlsx\n",
      "//========= END OF ITERATION : 30 ========= \\\n",
      "//========= START OF ITERATION : 35 ========= \\\n",
      "CPU times: user 4 µs, sys: 1e+03 ns, total: 5 µs\n",
      "Wall time: 8.82 µs\n"
     ]
    },
    {
     "name": "stderr",
     "output_type": "stream",
     "text": [
      "<ipython-input-3-59eb44f7b863>:12: UserWarning: Pandas requires version '1.4.3' or newer of 'xlsxwriter' (version '1.3.8' currently installed).\n",
      "  rolling_table.to_excel(f'rolling_table{iter_window}.xlsx')\n"
     ]
    },
    {
     "name": "stdout",
     "output_type": "stream",
     "text": [
      "Excel file created successfully: rolling_table35.xlsx\n"
     ]
    },
    {
     "name": "stderr",
     "output_type": "stream",
     "text": [
      "<ipython-input-3-59eb44f7b863>:17: UserWarning: Pandas requires version '1.4.3' or newer of 'xlsxwriter' (version '1.3.8' currently installed).\n",
      "  performance.to_excel(f'performance{iter_window}.xlsx')\n"
     ]
    },
    {
     "name": "stdout",
     "output_type": "stream",
     "text": [
      "Excel file created successfully: performance35.xlsx\n"
     ]
    },
    {
     "name": "stderr",
     "output_type": "stream",
     "text": [
      "<ipython-input-3-59eb44f7b863>:23: UserWarning: Pandas requires version '1.4.3' or newer of 'xlsxwriter' (version '1.3.8' currently installed).\n",
      "  rolling_table.to_excel(f'merged_df{iter_window}.xlsx')\n"
     ]
    },
    {
     "name": "stdout",
     "output_type": "stream",
     "text": [
      "Excel file created successfully: merged_df35.xlsx\n",
      "//========= END OF ITERATION : 35 ========= \\\n",
      "//========= START OF ITERATION : 40 ========= \\\n",
      "CPU times: user 1e+03 ns, sys: 1 µs, total: 2 µs\n",
      "Wall time: 4.29 µs\n"
     ]
    },
    {
     "name": "stderr",
     "output_type": "stream",
     "text": [
      "<ipython-input-3-59eb44f7b863>:12: UserWarning: Pandas requires version '1.4.3' or newer of 'xlsxwriter' (version '1.3.8' currently installed).\n",
      "  rolling_table.to_excel(f'rolling_table{iter_window}.xlsx')\n"
     ]
    },
    {
     "name": "stdout",
     "output_type": "stream",
     "text": [
      "Excel file created successfully: rolling_table40.xlsx\n"
     ]
    },
    {
     "name": "stderr",
     "output_type": "stream",
     "text": [
      "<ipython-input-3-59eb44f7b863>:17: UserWarning: Pandas requires version '1.4.3' or newer of 'xlsxwriter' (version '1.3.8' currently installed).\n",
      "  performance.to_excel(f'performance{iter_window}.xlsx')\n"
     ]
    },
    {
     "name": "stdout",
     "output_type": "stream",
     "text": [
      "Excel file created successfully: performance40.xlsx\n"
     ]
    },
    {
     "name": "stderr",
     "output_type": "stream",
     "text": [
      "<ipython-input-3-59eb44f7b863>:23: UserWarning: Pandas requires version '1.4.3' or newer of 'xlsxwriter' (version '1.3.8' currently installed).\n",
      "  rolling_table.to_excel(f'merged_df{iter_window}.xlsx')\n"
     ]
    },
    {
     "name": "stdout",
     "output_type": "stream",
     "text": [
      "Excel file created successfully: merged_df40.xlsx\n",
      "//========= END OF ITERATION : 40 ========= \\\n",
      "//========= START OF ITERATION : 45 ========= \\\n",
      "CPU times: user 2 µs, sys: 1 µs, total: 3 µs\n",
      "Wall time: 4.05 µs\n"
     ]
    },
    {
     "name": "stderr",
     "output_type": "stream",
     "text": [
      "<ipython-input-3-59eb44f7b863>:12: UserWarning: Pandas requires version '1.4.3' or newer of 'xlsxwriter' (version '1.3.8' currently installed).\n",
      "  rolling_table.to_excel(f'rolling_table{iter_window}.xlsx')\n"
     ]
    },
    {
     "name": "stdout",
     "output_type": "stream",
     "text": [
      "Excel file created successfully: rolling_table45.xlsx\n",
      "Excel file created successfully: performance45.xlsx\n"
     ]
    },
    {
     "name": "stderr",
     "output_type": "stream",
     "text": [
      "<ipython-input-3-59eb44f7b863>:17: UserWarning: Pandas requires version '1.4.3' or newer of 'xlsxwriter' (version '1.3.8' currently installed).\n",
      "  performance.to_excel(f'performance{iter_window}.xlsx')\n",
      "<ipython-input-3-59eb44f7b863>:23: UserWarning: Pandas requires version '1.4.3' or newer of 'xlsxwriter' (version '1.3.8' currently installed).\n",
      "  rolling_table.to_excel(f'merged_df{iter_window}.xlsx')\n"
     ]
    },
    {
     "name": "stdout",
     "output_type": "stream",
     "text": [
      "Excel file created successfully: merged_df45.xlsx\n",
      "//========= END OF ITERATION : 45 ========= \\\n",
      "//========= START OF ITERATION : 50 ========= \\\n",
      "CPU times: user 3 µs, sys: 1 µs, total: 4 µs\n",
      "Wall time: 7.15 µs\n"
     ]
    },
    {
     "name": "stderr",
     "output_type": "stream",
     "text": [
      "<ipython-input-3-59eb44f7b863>:12: UserWarning: Pandas requires version '1.4.3' or newer of 'xlsxwriter' (version '1.3.8' currently installed).\n",
      "  rolling_table.to_excel(f'rolling_table{iter_window}.xlsx')\n"
     ]
    },
    {
     "name": "stdout",
     "output_type": "stream",
     "text": [
      "Excel file created successfully: rolling_table50.xlsx\n",
      "Excel file created successfully: performance50.xlsx\n"
     ]
    },
    {
     "name": "stderr",
     "output_type": "stream",
     "text": [
      "<ipython-input-3-59eb44f7b863>:17: UserWarning: Pandas requires version '1.4.3' or newer of 'xlsxwriter' (version '1.3.8' currently installed).\n",
      "  performance.to_excel(f'performance{iter_window}.xlsx')\n",
      "<ipython-input-3-59eb44f7b863>:23: UserWarning: Pandas requires version '1.4.3' or newer of 'xlsxwriter' (version '1.3.8' currently installed).\n",
      "  rolling_table.to_excel(f'merged_df{iter_window}.xlsx')\n"
     ]
    },
    {
     "name": "stdout",
     "output_type": "stream",
     "text": [
      "Excel file created successfully: merged_df50.xlsx\n",
      "//========= END OF ITERATION : 50 ========= \\\n",
      "//========= START OF ITERATION : 55 ========= \\\n",
      "CPU times: user 2 µs, sys: 1e+03 ns, total: 3 µs\n",
      "Wall time: 5.25 µs\n"
     ]
    },
    {
     "name": "stderr",
     "output_type": "stream",
     "text": [
      "<ipython-input-3-59eb44f7b863>:12: UserWarning: Pandas requires version '1.4.3' or newer of 'xlsxwriter' (version '1.3.8' currently installed).\n",
      "  rolling_table.to_excel(f'rolling_table{iter_window}.xlsx')\n"
     ]
    },
    {
     "name": "stdout",
     "output_type": "stream",
     "text": [
      "Excel file created successfully: rolling_table55.xlsx\n",
      "Excel file created successfully: performance55.xlsx\n"
     ]
    },
    {
     "name": "stderr",
     "output_type": "stream",
     "text": [
      "<ipython-input-3-59eb44f7b863>:17: UserWarning: Pandas requires version '1.4.3' or newer of 'xlsxwriter' (version '1.3.8' currently installed).\n",
      "  performance.to_excel(f'performance{iter_window}.xlsx')\n",
      "<ipython-input-3-59eb44f7b863>:23: UserWarning: Pandas requires version '1.4.3' or newer of 'xlsxwriter' (version '1.3.8' currently installed).\n",
      "  rolling_table.to_excel(f'merged_df{iter_window}.xlsx')\n"
     ]
    },
    {
     "name": "stdout",
     "output_type": "stream",
     "text": [
      "Excel file created successfully: merged_df55.xlsx\n",
      "//========= END OF ITERATION : 55 ========= \\\n",
      "//========= START OF ITERATION : 60 ========= \\\n",
      "CPU times: user 1 µs, sys: 1 µs, total: 2 µs\n",
      "Wall time: 4.05 µs\n"
     ]
    },
    {
     "name": "stderr",
     "output_type": "stream",
     "text": [
      "<ipython-input-3-59eb44f7b863>:12: UserWarning: Pandas requires version '1.4.3' or newer of 'xlsxwriter' (version '1.3.8' currently installed).\n",
      "  rolling_table.to_excel(f'rolling_table{iter_window}.xlsx')\n"
     ]
    },
    {
     "name": "stdout",
     "output_type": "stream",
     "text": [
      "Excel file created successfully: rolling_table60.xlsx\n",
      "Excel file created successfully: performance60.xlsx\n"
     ]
    },
    {
     "name": "stderr",
     "output_type": "stream",
     "text": [
      "<ipython-input-3-59eb44f7b863>:17: UserWarning: Pandas requires version '1.4.3' or newer of 'xlsxwriter' (version '1.3.8' currently installed).\n",
      "  performance.to_excel(f'performance{iter_window}.xlsx')\n",
      "<ipython-input-3-59eb44f7b863>:23: UserWarning: Pandas requires version '1.4.3' or newer of 'xlsxwriter' (version '1.3.8' currently installed).\n",
      "  rolling_table.to_excel(f'merged_df{iter_window}.xlsx')\n"
     ]
    },
    {
     "name": "stdout",
     "output_type": "stream",
     "text": [
      "Excel file created successfully: merged_df60.xlsx\n",
      "//========= END OF ITERATION : 60 ========= \\\n",
      "//========= START OF ITERATION : 65 ========= \\\n",
      "CPU times: user 2 µs, sys: 0 ns, total: 2 µs\n",
      "Wall time: 4.05 µs\n"
     ]
    },
    {
     "name": "stderr",
     "output_type": "stream",
     "text": [
      "<ipython-input-3-59eb44f7b863>:12: UserWarning: Pandas requires version '1.4.3' or newer of 'xlsxwriter' (version '1.3.8' currently installed).\n",
      "  rolling_table.to_excel(f'rolling_table{iter_window}.xlsx')\n"
     ]
    },
    {
     "name": "stdout",
     "output_type": "stream",
     "text": [
      "Excel file created successfully: rolling_table65.xlsx\n"
     ]
    },
    {
     "name": "stderr",
     "output_type": "stream",
     "text": [
      "<ipython-input-3-59eb44f7b863>:17: UserWarning: Pandas requires version '1.4.3' or newer of 'xlsxwriter' (version '1.3.8' currently installed).\n",
      "  performance.to_excel(f'performance{iter_window}.xlsx')\n"
     ]
    },
    {
     "name": "stdout",
     "output_type": "stream",
     "text": [
      "Excel file created successfully: performance65.xlsx\n"
     ]
    },
    {
     "name": "stderr",
     "output_type": "stream",
     "text": [
      "<ipython-input-3-59eb44f7b863>:23: UserWarning: Pandas requires version '1.4.3' or newer of 'xlsxwriter' (version '1.3.8' currently installed).\n",
      "  rolling_table.to_excel(f'merged_df{iter_window}.xlsx')\n"
     ]
    },
    {
     "name": "stdout",
     "output_type": "stream",
     "text": [
      "Excel file created successfully: merged_df65.xlsx\n",
      "//========= END OF ITERATION : 65 ========= \\\n",
      "//========= START OF ITERATION : 70 ========= \\\n",
      "CPU times: user 4 µs, sys: 1 µs, total: 5 µs\n",
      "Wall time: 9.06 µs\n"
     ]
    },
    {
     "name": "stderr",
     "output_type": "stream",
     "text": [
      "<ipython-input-3-59eb44f7b863>:12: UserWarning: Pandas requires version '1.4.3' or newer of 'xlsxwriter' (version '1.3.8' currently installed).\n",
      "  rolling_table.to_excel(f'rolling_table{iter_window}.xlsx')\n"
     ]
    },
    {
     "name": "stdout",
     "output_type": "stream",
     "text": [
      "Excel file created successfully: rolling_table70.xlsx\n",
      "Excel file created successfully: performance70.xlsx\n"
     ]
    },
    {
     "name": "stderr",
     "output_type": "stream",
     "text": [
      "<ipython-input-3-59eb44f7b863>:17: UserWarning: Pandas requires version '1.4.3' or newer of 'xlsxwriter' (version '1.3.8' currently installed).\n",
      "  performance.to_excel(f'performance{iter_window}.xlsx')\n",
      "<ipython-input-3-59eb44f7b863>:23: UserWarning: Pandas requires version '1.4.3' or newer of 'xlsxwriter' (version '1.3.8' currently installed).\n",
      "  rolling_table.to_excel(f'merged_df{iter_window}.xlsx')\n"
     ]
    },
    {
     "name": "stdout",
     "output_type": "stream",
     "text": [
      "Excel file created successfully: merged_df70.xlsx\n",
      "//========= END OF ITERATION : 70 ========= \\\n",
      "//========= START OF ITERATION : 75 ========= \\\n",
      "CPU times: user 1 µs, sys: 1e+03 ns, total: 2 µs\n",
      "Wall time: 3.81 µs\n"
     ]
    },
    {
     "name": "stderr",
     "output_type": "stream",
     "text": [
      "<ipython-input-3-59eb44f7b863>:12: UserWarning: Pandas requires version '1.4.3' or newer of 'xlsxwriter' (version '1.3.8' currently installed).\n",
      "  rolling_table.to_excel(f'rolling_table{iter_window}.xlsx')\n"
     ]
    },
    {
     "name": "stdout",
     "output_type": "stream",
     "text": [
      "Excel file created successfully: rolling_table75.xlsx\n"
     ]
    },
    {
     "name": "stderr",
     "output_type": "stream",
     "text": [
      "<ipython-input-3-59eb44f7b863>:17: UserWarning: Pandas requires version '1.4.3' or newer of 'xlsxwriter' (version '1.3.8' currently installed).\n",
      "  performance.to_excel(f'performance{iter_window}.xlsx')\n",
      "<ipython-input-3-59eb44f7b863>:23: UserWarning: Pandas requires version '1.4.3' or newer of 'xlsxwriter' (version '1.3.8' currently installed).\n",
      "  rolling_table.to_excel(f'merged_df{iter_window}.xlsx')\n"
     ]
    },
    {
     "name": "stdout",
     "output_type": "stream",
     "text": [
      "Excel file created successfully: performance75.xlsx\n",
      "Excel file created successfully: merged_df75.xlsx\n",
      "//========= END OF ITERATION : 75 ========= \\\n",
      "//========= START OF ITERATION : 80 ========= \\\n",
      "CPU times: user 1e+03 ns, sys: 1 µs, total: 2 µs\n",
      "Wall time: 4.05 µs\n"
     ]
    },
    {
     "name": "stderr",
     "output_type": "stream",
     "text": [
      "<ipython-input-3-59eb44f7b863>:12: UserWarning: Pandas requires version '1.4.3' or newer of 'xlsxwriter' (version '1.3.8' currently installed).\n",
      "  rolling_table.to_excel(f'rolling_table{iter_window}.xlsx')\n"
     ]
    },
    {
     "name": "stdout",
     "output_type": "stream",
     "text": [
      "Excel file created successfully: rolling_table80.xlsx\n",
      "Excel file created successfully: performance80.xlsx\n"
     ]
    },
    {
     "name": "stderr",
     "output_type": "stream",
     "text": [
      "<ipython-input-3-59eb44f7b863>:17: UserWarning: Pandas requires version '1.4.3' or newer of 'xlsxwriter' (version '1.3.8' currently installed).\n",
      "  performance.to_excel(f'performance{iter_window}.xlsx')\n",
      "<ipython-input-3-59eb44f7b863>:23: UserWarning: Pandas requires version '1.4.3' or newer of 'xlsxwriter' (version '1.3.8' currently installed).\n",
      "  rolling_table.to_excel(f'merged_df{iter_window}.xlsx')\n"
     ]
    },
    {
     "name": "stdout",
     "output_type": "stream",
     "text": [
      "Excel file created successfully: merged_df80.xlsx\n",
      "//========= END OF ITERATION : 80 ========= \\\n",
      "//========= START OF ITERATION : 85 ========= \\\n",
      "CPU times: user 1e+03 ns, sys: 0 ns, total: 1e+03 ns\n",
      "Wall time: 2.86 µs\n"
     ]
    },
    {
     "name": "stderr",
     "output_type": "stream",
     "text": [
      "<ipython-input-3-59eb44f7b863>:12: UserWarning: Pandas requires version '1.4.3' or newer of 'xlsxwriter' (version '1.3.8' currently installed).\n",
      "  rolling_table.to_excel(f'rolling_table{iter_window}.xlsx')\n"
     ]
    },
    {
     "name": "stdout",
     "output_type": "stream",
     "text": [
      "Excel file created successfully: rolling_table85.xlsx\n",
      "Excel file created successfully: performance85.xlsx\n"
     ]
    },
    {
     "name": "stderr",
     "output_type": "stream",
     "text": [
      "<ipython-input-3-59eb44f7b863>:17: UserWarning: Pandas requires version '1.4.3' or newer of 'xlsxwriter' (version '1.3.8' currently installed).\n",
      "  performance.to_excel(f'performance{iter_window}.xlsx')\n",
      "<ipython-input-3-59eb44f7b863>:23: UserWarning: Pandas requires version '1.4.3' or newer of 'xlsxwriter' (version '1.3.8' currently installed).\n",
      "  rolling_table.to_excel(f'merged_df{iter_window}.xlsx')\n"
     ]
    },
    {
     "name": "stdout",
     "output_type": "stream",
     "text": [
      "Excel file created successfully: merged_df85.xlsx\n",
      "//========= END OF ITERATION : 85 ========= \\\n",
      "//========= START OF ITERATION : 90 ========= \\\n",
      "CPU times: user 2 µs, sys: 0 ns, total: 2 µs\n",
      "Wall time: 4.05 µs\n"
     ]
    },
    {
     "name": "stderr",
     "output_type": "stream",
     "text": [
      "<ipython-input-3-59eb44f7b863>:12: UserWarning: Pandas requires version '1.4.3' or newer of 'xlsxwriter' (version '1.3.8' currently installed).\n",
      "  rolling_table.to_excel(f'rolling_table{iter_window}.xlsx')\n"
     ]
    },
    {
     "name": "stdout",
     "output_type": "stream",
     "text": [
      "Excel file created successfully: rolling_table90.xlsx\n",
      "Excel file created successfully: performance90.xlsx\n"
     ]
    },
    {
     "name": "stderr",
     "output_type": "stream",
     "text": [
      "<ipython-input-3-59eb44f7b863>:17: UserWarning: Pandas requires version '1.4.3' or newer of 'xlsxwriter' (version '1.3.8' currently installed).\n",
      "  performance.to_excel(f'performance{iter_window}.xlsx')\n",
      "<ipython-input-3-59eb44f7b863>:23: UserWarning: Pandas requires version '1.4.3' or newer of 'xlsxwriter' (version '1.3.8' currently installed).\n",
      "  rolling_table.to_excel(f'merged_df{iter_window}.xlsx')\n"
     ]
    },
    {
     "name": "stdout",
     "output_type": "stream",
     "text": [
      "Excel file created successfully: merged_df90.xlsx\n",
      "//========= END OF ITERATION : 90 ========= \\\n",
      "//========= START OF ITERATION : 95 ========= \\\n",
      "CPU times: user 2 µs, sys: 0 ns, total: 2 µs\n",
      "Wall time: 3.81 µs\n"
     ]
    },
    {
     "name": "stderr",
     "output_type": "stream",
     "text": [
      "<ipython-input-3-59eb44f7b863>:12: UserWarning: Pandas requires version '1.4.3' or newer of 'xlsxwriter' (version '1.3.8' currently installed).\n",
      "  rolling_table.to_excel(f'rolling_table{iter_window}.xlsx')\n"
     ]
    },
    {
     "name": "stdout",
     "output_type": "stream",
     "text": [
      "Excel file created successfully: rolling_table95.xlsx\n",
      "Excel file created successfully: performance95.xlsx\n"
     ]
    },
    {
     "name": "stderr",
     "output_type": "stream",
     "text": [
      "<ipython-input-3-59eb44f7b863>:17: UserWarning: Pandas requires version '1.4.3' or newer of 'xlsxwriter' (version '1.3.8' currently installed).\n",
      "  performance.to_excel(f'performance{iter_window}.xlsx')\n",
      "<ipython-input-3-59eb44f7b863>:23: UserWarning: Pandas requires version '1.4.3' or newer of 'xlsxwriter' (version '1.3.8' currently installed).\n",
      "  rolling_table.to_excel(f'merged_df{iter_window}.xlsx')\n"
     ]
    },
    {
     "name": "stdout",
     "output_type": "stream",
     "text": [
      "Excel file created successfully: merged_df95.xlsx\n",
      "//========= END OF ITERATION : 95 ========= \\\n",
      "//========= START OF ITERATION : 100 ========= \\\n",
      "CPU times: user 2 µs, sys: 1e+03 ns, total: 3 µs\n",
      "Wall time: 5.01 µs\n"
     ]
    },
    {
     "name": "stderr",
     "output_type": "stream",
     "text": [
      "<ipython-input-3-59eb44f7b863>:12: UserWarning: Pandas requires version '1.4.3' or newer of 'xlsxwriter' (version '1.3.8' currently installed).\n",
      "  rolling_table.to_excel(f'rolling_table{iter_window}.xlsx')\n"
     ]
    },
    {
     "name": "stdout",
     "output_type": "stream",
     "text": [
      "Excel file created successfully: rolling_table100.xlsx\n",
      "Excel file created successfully: performance100.xlsx\n"
     ]
    },
    {
     "name": "stderr",
     "output_type": "stream",
     "text": [
      "<ipython-input-3-59eb44f7b863>:17: UserWarning: Pandas requires version '1.4.3' or newer of 'xlsxwriter' (version '1.3.8' currently installed).\n",
      "  performance.to_excel(f'performance{iter_window}.xlsx')\n",
      "<ipython-input-3-59eb44f7b863>:23: UserWarning: Pandas requires version '1.4.3' or newer of 'xlsxwriter' (version '1.3.8' currently installed).\n",
      "  rolling_table.to_excel(f'merged_df{iter_window}.xlsx')\n"
     ]
    },
    {
     "name": "stdout",
     "output_type": "stream",
     "text": [
      "Excel file created successfully: merged_df100.xlsx\n",
      "//========= END OF ITERATION : 100 ========= \\\n",
      "//========= START OF ITERATION : 105 ========= \\\n",
      "CPU times: user 2 µs, sys: 1 µs, total: 3 µs\n",
      "Wall time: 4.77 µs\n"
     ]
    },
    {
     "name": "stderr",
     "output_type": "stream",
     "text": [
      "<ipython-input-3-59eb44f7b863>:12: UserWarning: Pandas requires version '1.4.3' or newer of 'xlsxwriter' (version '1.3.8' currently installed).\n",
      "  rolling_table.to_excel(f'rolling_table{iter_window}.xlsx')\n"
     ]
    },
    {
     "name": "stdout",
     "output_type": "stream",
     "text": [
      "Excel file created successfully: rolling_table105.xlsx\n",
      "Excel file created successfully: performance105.xlsx\n"
     ]
    },
    {
     "name": "stderr",
     "output_type": "stream",
     "text": [
      "<ipython-input-3-59eb44f7b863>:17: UserWarning: Pandas requires version '1.4.3' or newer of 'xlsxwriter' (version '1.3.8' currently installed).\n",
      "  performance.to_excel(f'performance{iter_window}.xlsx')\n",
      "<ipython-input-3-59eb44f7b863>:23: UserWarning: Pandas requires version '1.4.3' or newer of 'xlsxwriter' (version '1.3.8' currently installed).\n",
      "  rolling_table.to_excel(f'merged_df{iter_window}.xlsx')\n"
     ]
    },
    {
     "name": "stdout",
     "output_type": "stream",
     "text": [
      "Excel file created successfully: merged_df105.xlsx\n",
      "//========= END OF ITERATION : 105 ========= \\\n",
      "//========= START OF ITERATION : 110 ========= \\\n",
      "CPU times: user 2 µs, sys: 0 ns, total: 2 µs\n",
      "Wall time: 5.01 µs\n"
     ]
    },
    {
     "name": "stderr",
     "output_type": "stream",
     "text": [
      "<ipython-input-3-59eb44f7b863>:12: UserWarning: Pandas requires version '1.4.3' or newer of 'xlsxwriter' (version '1.3.8' currently installed).\n",
      "  rolling_table.to_excel(f'rolling_table{iter_window}.xlsx')\n"
     ]
    },
    {
     "name": "stdout",
     "output_type": "stream",
     "text": [
      "Excel file created successfully: rolling_table110.xlsx\n",
      "Excel file created successfully: performance110.xlsx\n"
     ]
    },
    {
     "name": "stderr",
     "output_type": "stream",
     "text": [
      "<ipython-input-3-59eb44f7b863>:17: UserWarning: Pandas requires version '1.4.3' or newer of 'xlsxwriter' (version '1.3.8' currently installed).\n",
      "  performance.to_excel(f'performance{iter_window}.xlsx')\n",
      "<ipython-input-3-59eb44f7b863>:23: UserWarning: Pandas requires version '1.4.3' or newer of 'xlsxwriter' (version '1.3.8' currently installed).\n",
      "  rolling_table.to_excel(f'merged_df{iter_window}.xlsx')\n"
     ]
    },
    {
     "name": "stdout",
     "output_type": "stream",
     "text": [
      "Excel file created successfully: merged_df110.xlsx\n",
      "//========= END OF ITERATION : 110 ========= \\\n",
      "//========= START OF ITERATION : 115 ========= \\\n",
      "CPU times: user 3 µs, sys: 1e+03 ns, total: 4 µs\n",
      "Wall time: 5.96 µs\n"
     ]
    },
    {
     "name": "stderr",
     "output_type": "stream",
     "text": [
      "<ipython-input-3-59eb44f7b863>:12: UserWarning: Pandas requires version '1.4.3' or newer of 'xlsxwriter' (version '1.3.8' currently installed).\n",
      "  rolling_table.to_excel(f'rolling_table{iter_window}.xlsx')\n"
     ]
    },
    {
     "name": "stdout",
     "output_type": "stream",
     "text": [
      "Excel file created successfully: rolling_table115.xlsx\n",
      "Excel file created successfully: performance115.xlsx\n"
     ]
    },
    {
     "name": "stderr",
     "output_type": "stream",
     "text": [
      "<ipython-input-3-59eb44f7b863>:17: UserWarning: Pandas requires version '1.4.3' or newer of 'xlsxwriter' (version '1.3.8' currently installed).\n",
      "  performance.to_excel(f'performance{iter_window}.xlsx')\n",
      "<ipython-input-3-59eb44f7b863>:23: UserWarning: Pandas requires version '1.4.3' or newer of 'xlsxwriter' (version '1.3.8' currently installed).\n",
      "  rolling_table.to_excel(f'merged_df{iter_window}.xlsx')\n"
     ]
    },
    {
     "name": "stdout",
     "output_type": "stream",
     "text": [
      "Excel file created successfully: merged_df115.xlsx\n",
      "//========= END OF ITERATION : 115 ========= \\\n",
      "//========= START OF ITERATION : 120 ========= \\\n",
      "CPU times: user 1 µs, sys: 0 ns, total: 1 µs\n",
      "Wall time: 4.05 µs\n"
     ]
    },
    {
     "name": "stderr",
     "output_type": "stream",
     "text": [
      "<ipython-input-3-59eb44f7b863>:12: UserWarning: Pandas requires version '1.4.3' or newer of 'xlsxwriter' (version '1.3.8' currently installed).\n",
      "  rolling_table.to_excel(f'rolling_table{iter_window}.xlsx')\n"
     ]
    },
    {
     "name": "stdout",
     "output_type": "stream",
     "text": [
      "Excel file created successfully: rolling_table120.xlsx\n",
      "Excel file created successfully: performance120.xlsx\n"
     ]
    },
    {
     "name": "stderr",
     "output_type": "stream",
     "text": [
      "<ipython-input-3-59eb44f7b863>:17: UserWarning: Pandas requires version '1.4.3' or newer of 'xlsxwriter' (version '1.3.8' currently installed).\n",
      "  performance.to_excel(f'performance{iter_window}.xlsx')\n",
      "<ipython-input-3-59eb44f7b863>:23: UserWarning: Pandas requires version '1.4.3' or newer of 'xlsxwriter' (version '1.3.8' currently installed).\n",
      "  rolling_table.to_excel(f'merged_df{iter_window}.xlsx')\n"
     ]
    },
    {
     "name": "stdout",
     "output_type": "stream",
     "text": [
      "Excel file created successfully: merged_df120.xlsx\n",
      "//========= END OF ITERATION : 120 ========= \\\n",
      "//========= START OF ITERATION : 125 ========= \\\n",
      "CPU times: user 1 µs, sys: 1 µs, total: 2 µs\n",
      "Wall time: 4.05 µs\n"
     ]
    },
    {
     "name": "stderr",
     "output_type": "stream",
     "text": [
      "<ipython-input-3-59eb44f7b863>:12: UserWarning: Pandas requires version '1.4.3' or newer of 'xlsxwriter' (version '1.3.8' currently installed).\n",
      "  rolling_table.to_excel(f'rolling_table{iter_window}.xlsx')\n"
     ]
    },
    {
     "name": "stdout",
     "output_type": "stream",
     "text": [
      "Excel file created successfully: rolling_table125.xlsx\n",
      "Excel file created successfully: performance125.xlsx\n"
     ]
    },
    {
     "name": "stderr",
     "output_type": "stream",
     "text": [
      "<ipython-input-3-59eb44f7b863>:17: UserWarning: Pandas requires version '1.4.3' or newer of 'xlsxwriter' (version '1.3.8' currently installed).\n",
      "  performance.to_excel(f'performance{iter_window}.xlsx')\n",
      "<ipython-input-3-59eb44f7b863>:23: UserWarning: Pandas requires version '1.4.3' or newer of 'xlsxwriter' (version '1.3.8' currently installed).\n",
      "  rolling_table.to_excel(f'merged_df{iter_window}.xlsx')\n"
     ]
    },
    {
     "name": "stdout",
     "output_type": "stream",
     "text": [
      "Excel file created successfully: merged_df125.xlsx\n",
      "//========= END OF ITERATION : 125 ========= \\\n",
      "//========= START OF ITERATION : 130 ========= \\\n",
      "CPU times: user 2 µs, sys: 1e+03 ns, total: 3 µs\n",
      "Wall time: 4.05 µs\n"
     ]
    },
    {
     "name": "stderr",
     "output_type": "stream",
     "text": [
      "<ipython-input-3-59eb44f7b863>:12: UserWarning: Pandas requires version '1.4.3' or newer of 'xlsxwriter' (version '1.3.8' currently installed).\n",
      "  rolling_table.to_excel(f'rolling_table{iter_window}.xlsx')\n"
     ]
    },
    {
     "name": "stdout",
     "output_type": "stream",
     "text": [
      "Excel file created successfully: rolling_table130.xlsx\n",
      "Excel file created successfully: performance130.xlsx\n"
     ]
    },
    {
     "name": "stderr",
     "output_type": "stream",
     "text": [
      "<ipython-input-3-59eb44f7b863>:17: UserWarning: Pandas requires version '1.4.3' or newer of 'xlsxwriter' (version '1.3.8' currently installed).\n",
      "  performance.to_excel(f'performance{iter_window}.xlsx')\n",
      "<ipython-input-3-59eb44f7b863>:23: UserWarning: Pandas requires version '1.4.3' or newer of 'xlsxwriter' (version '1.3.8' currently installed).\n",
      "  rolling_table.to_excel(f'merged_df{iter_window}.xlsx')\n"
     ]
    },
    {
     "name": "stdout",
     "output_type": "stream",
     "text": [
      "Excel file created successfully: merged_df130.xlsx\n",
      "//========= END OF ITERATION : 130 ========= \\\n",
      "//========= START OF ITERATION : 135 ========= \\\n",
      "CPU times: user 2 µs, sys: 0 ns, total: 2 µs\n",
      "Wall time: 4.05 µs\n"
     ]
    },
    {
     "name": "stderr",
     "output_type": "stream",
     "text": [
      "<ipython-input-3-59eb44f7b863>:12: UserWarning: Pandas requires version '1.4.3' or newer of 'xlsxwriter' (version '1.3.8' currently installed).\n",
      "  rolling_table.to_excel(f'rolling_table{iter_window}.xlsx')\n"
     ]
    },
    {
     "name": "stdout",
     "output_type": "stream",
     "text": [
      "Excel file created successfully: rolling_table135.xlsx\n",
      "Excel file created successfully: performance135.xlsx\n"
     ]
    },
    {
     "name": "stderr",
     "output_type": "stream",
     "text": [
      "<ipython-input-3-59eb44f7b863>:17: UserWarning: Pandas requires version '1.4.3' or newer of 'xlsxwriter' (version '1.3.8' currently installed).\n",
      "  performance.to_excel(f'performance{iter_window}.xlsx')\n",
      "<ipython-input-3-59eb44f7b863>:23: UserWarning: Pandas requires version '1.4.3' or newer of 'xlsxwriter' (version '1.3.8' currently installed).\n",
      "  rolling_table.to_excel(f'merged_df{iter_window}.xlsx')\n"
     ]
    },
    {
     "name": "stdout",
     "output_type": "stream",
     "text": [
      "Excel file created successfully: merged_df135.xlsx\n",
      "//========= END OF ITERATION : 135 ========= \\\n",
      "//========= START OF ITERATION : 140 ========= \\\n",
      "CPU times: user 2 µs, sys: 0 ns, total: 2 µs\n",
      "Wall time: 5.25 µs\n"
     ]
    },
    {
     "name": "stderr",
     "output_type": "stream",
     "text": [
      "<ipython-input-3-59eb44f7b863>:12: UserWarning: Pandas requires version '1.4.3' or newer of 'xlsxwriter' (version '1.3.8' currently installed).\n",
      "  rolling_table.to_excel(f'rolling_table{iter_window}.xlsx')\n"
     ]
    },
    {
     "name": "stdout",
     "output_type": "stream",
     "text": [
      "Excel file created successfully: rolling_table140.xlsx\n",
      "Excel file created successfully: performance140.xlsx\n"
     ]
    },
    {
     "name": "stderr",
     "output_type": "stream",
     "text": [
      "<ipython-input-3-59eb44f7b863>:17: UserWarning: Pandas requires version '1.4.3' or newer of 'xlsxwriter' (version '1.3.8' currently installed).\n",
      "  performance.to_excel(f'performance{iter_window}.xlsx')\n",
      "<ipython-input-3-59eb44f7b863>:23: UserWarning: Pandas requires version '1.4.3' or newer of 'xlsxwriter' (version '1.3.8' currently installed).\n",
      "  rolling_table.to_excel(f'merged_df{iter_window}.xlsx')\n"
     ]
    },
    {
     "name": "stdout",
     "output_type": "stream",
     "text": [
      "Excel file created successfully: merged_df140.xlsx\n",
      "//========= END OF ITERATION : 140 ========= \\\n",
      "//========= START OF ITERATION : 145 ========= \\\n",
      "CPU times: user 2 µs, sys: 0 ns, total: 2 µs\n",
      "Wall time: 3.81 µs\n"
     ]
    },
    {
     "name": "stderr",
     "output_type": "stream",
     "text": [
      "<ipython-input-3-59eb44f7b863>:12: UserWarning: Pandas requires version '1.4.3' or newer of 'xlsxwriter' (version '1.3.8' currently installed).\n",
      "  rolling_table.to_excel(f'rolling_table{iter_window}.xlsx')\n"
     ]
    },
    {
     "name": "stdout",
     "output_type": "stream",
     "text": [
      "Excel file created successfully: rolling_table145.xlsx\n",
      "Excel file created successfully: performance145.xlsx\n"
     ]
    },
    {
     "name": "stderr",
     "output_type": "stream",
     "text": [
      "<ipython-input-3-59eb44f7b863>:17: UserWarning: Pandas requires version '1.4.3' or newer of 'xlsxwriter' (version '1.3.8' currently installed).\n",
      "  performance.to_excel(f'performance{iter_window}.xlsx')\n",
      "<ipython-input-3-59eb44f7b863>:23: UserWarning: Pandas requires version '1.4.3' or newer of 'xlsxwriter' (version '1.3.8' currently installed).\n",
      "  rolling_table.to_excel(f'merged_df{iter_window}.xlsx')\n"
     ]
    },
    {
     "name": "stdout",
     "output_type": "stream",
     "text": [
      "Excel file created successfully: merged_df145.xlsx\n",
      "//========= END OF ITERATION : 145 ========= \\\n",
      "//========= START OF ITERATION : 150 ========= \\\n",
      "CPU times: user 2 µs, sys: 0 ns, total: 2 µs\n",
      "Wall time: 5.01 µs\n"
     ]
    },
    {
     "name": "stderr",
     "output_type": "stream",
     "text": [
      "<ipython-input-3-59eb44f7b863>:12: UserWarning: Pandas requires version '1.4.3' or newer of 'xlsxwriter' (version '1.3.8' currently installed).\n",
      "  rolling_table.to_excel(f'rolling_table{iter_window}.xlsx')\n"
     ]
    },
    {
     "name": "stdout",
     "output_type": "stream",
     "text": [
      "Excel file created successfully: rolling_table150.xlsx\n",
      "Excel file created successfully: performance150.xlsx\n"
     ]
    },
    {
     "name": "stderr",
     "output_type": "stream",
     "text": [
      "<ipython-input-3-59eb44f7b863>:17: UserWarning: Pandas requires version '1.4.3' or newer of 'xlsxwriter' (version '1.3.8' currently installed).\n",
      "  performance.to_excel(f'performance{iter_window}.xlsx')\n",
      "<ipython-input-3-59eb44f7b863>:23: UserWarning: Pandas requires version '1.4.3' or newer of 'xlsxwriter' (version '1.3.8' currently installed).\n",
      "  rolling_table.to_excel(f'merged_df{iter_window}.xlsx')\n"
     ]
    },
    {
     "name": "stdout",
     "output_type": "stream",
     "text": [
      "Excel file created successfully: merged_df150.xlsx\n",
      "//========= END OF ITERATION : 150 ========= \\\n",
      "//========= START OF ITERATION : 155 ========= \\\n",
      "CPU times: user 2 µs, sys: 1e+03 ns, total: 3 µs\n",
      "Wall time: 2.86 µs\n"
     ]
    },
    {
     "name": "stderr",
     "output_type": "stream",
     "text": [
      "<ipython-input-3-59eb44f7b863>:12: UserWarning: Pandas requires version '1.4.3' or newer of 'xlsxwriter' (version '1.3.8' currently installed).\n",
      "  rolling_table.to_excel(f'rolling_table{iter_window}.xlsx')\n"
     ]
    },
    {
     "name": "stdout",
     "output_type": "stream",
     "text": [
      "Excel file created successfully: rolling_table155.xlsx\n",
      "Excel file created successfully: performance155.xlsx\n"
     ]
    },
    {
     "name": "stderr",
     "output_type": "stream",
     "text": [
      "<ipython-input-3-59eb44f7b863>:17: UserWarning: Pandas requires version '1.4.3' or newer of 'xlsxwriter' (version '1.3.8' currently installed).\n",
      "  performance.to_excel(f'performance{iter_window}.xlsx')\n",
      "<ipython-input-3-59eb44f7b863>:23: UserWarning: Pandas requires version '1.4.3' or newer of 'xlsxwriter' (version '1.3.8' currently installed).\n",
      "  rolling_table.to_excel(f'merged_df{iter_window}.xlsx')\n"
     ]
    },
    {
     "name": "stdout",
     "output_type": "stream",
     "text": [
      "Excel file created successfully: merged_df155.xlsx\n",
      "//========= END OF ITERATION : 155 ========= \\\n",
      "//========= START OF ITERATION : 160 ========= \\\n",
      "CPU times: user 2 µs, sys: 1e+03 ns, total: 3 µs\n",
      "Wall time: 5.25 µs\n"
     ]
    },
    {
     "name": "stderr",
     "output_type": "stream",
     "text": [
      "<ipython-input-3-59eb44f7b863>:12: UserWarning: Pandas requires version '1.4.3' or newer of 'xlsxwriter' (version '1.3.8' currently installed).\n",
      "  rolling_table.to_excel(f'rolling_table{iter_window}.xlsx')\n"
     ]
    },
    {
     "name": "stdout",
     "output_type": "stream",
     "text": [
      "Excel file created successfully: rolling_table160.xlsx\n",
      "Excel file created successfully: performance160.xlsx\n"
     ]
    },
    {
     "name": "stderr",
     "output_type": "stream",
     "text": [
      "<ipython-input-3-59eb44f7b863>:17: UserWarning: Pandas requires version '1.4.3' or newer of 'xlsxwriter' (version '1.3.8' currently installed).\n",
      "  performance.to_excel(f'performance{iter_window}.xlsx')\n",
      "<ipython-input-3-59eb44f7b863>:23: UserWarning: Pandas requires version '1.4.3' or newer of 'xlsxwriter' (version '1.3.8' currently installed).\n",
      "  rolling_table.to_excel(f'merged_df{iter_window}.xlsx')\n"
     ]
    },
    {
     "name": "stdout",
     "output_type": "stream",
     "text": [
      "Excel file created successfully: merged_df160.xlsx\n",
      "//========= END OF ITERATION : 160 ========= \\\n",
      "//========= START OF ITERATION : 165 ========= \\\n",
      "CPU times: user 4 µs, sys: 1e+03 ns, total: 5 µs\n",
      "Wall time: 7.87 µs\n"
     ]
    },
    {
     "name": "stderr",
     "output_type": "stream",
     "text": [
      "<ipython-input-3-59eb44f7b863>:12: UserWarning: Pandas requires version '1.4.3' or newer of 'xlsxwriter' (version '1.3.8' currently installed).\n",
      "  rolling_table.to_excel(f'rolling_table{iter_window}.xlsx')\n"
     ]
    },
    {
     "name": "stdout",
     "output_type": "stream",
     "text": [
      "Excel file created successfully: rolling_table165.xlsx\n",
      "Excel file created successfully: performance165.xlsx\n"
     ]
    },
    {
     "name": "stderr",
     "output_type": "stream",
     "text": [
      "<ipython-input-3-59eb44f7b863>:17: UserWarning: Pandas requires version '1.4.3' or newer of 'xlsxwriter' (version '1.3.8' currently installed).\n",
      "  performance.to_excel(f'performance{iter_window}.xlsx')\n",
      "<ipython-input-3-59eb44f7b863>:23: UserWarning: Pandas requires version '1.4.3' or newer of 'xlsxwriter' (version '1.3.8' currently installed).\n",
      "  rolling_table.to_excel(f'merged_df{iter_window}.xlsx')\n"
     ]
    },
    {
     "name": "stdout",
     "output_type": "stream",
     "text": [
      "Excel file created successfully: merged_df165.xlsx\n",
      "//========= END OF ITERATION : 165 ========= \\\n",
      "//========= START OF ITERATION : 170 ========= \\\n",
      "CPU times: user 1 µs, sys: 0 ns, total: 1 µs\n",
      "Wall time: 4.05 µs\n"
     ]
    },
    {
     "name": "stderr",
     "output_type": "stream",
     "text": [
      "<ipython-input-3-59eb44f7b863>:12: UserWarning: Pandas requires version '1.4.3' or newer of 'xlsxwriter' (version '1.3.8' currently installed).\n",
      "  rolling_table.to_excel(f'rolling_table{iter_window}.xlsx')\n"
     ]
    },
    {
     "name": "stdout",
     "output_type": "stream",
     "text": [
      "Excel file created successfully: rolling_table170.xlsx\n",
      "Excel file created successfully: performance170.xlsx\n"
     ]
    },
    {
     "name": "stderr",
     "output_type": "stream",
     "text": [
      "<ipython-input-3-59eb44f7b863>:17: UserWarning: Pandas requires version '1.4.3' or newer of 'xlsxwriter' (version '1.3.8' currently installed).\n",
      "  performance.to_excel(f'performance{iter_window}.xlsx')\n",
      "<ipython-input-3-59eb44f7b863>:23: UserWarning: Pandas requires version '1.4.3' or newer of 'xlsxwriter' (version '1.3.8' currently installed).\n",
      "  rolling_table.to_excel(f'merged_df{iter_window}.xlsx')\n"
     ]
    },
    {
     "name": "stdout",
     "output_type": "stream",
     "text": [
      "Excel file created successfully: merged_df170.xlsx\n",
      "//========= END OF ITERATION : 170 ========= \\\n",
      "//========= START OF ITERATION : 175 ========= \\\n",
      "CPU times: user 2 µs, sys: 1e+03 ns, total: 3 µs\n",
      "Wall time: 4.05 µs\n"
     ]
    },
    {
     "name": "stderr",
     "output_type": "stream",
     "text": [
      "<ipython-input-3-59eb44f7b863>:12: UserWarning: Pandas requires version '1.4.3' or newer of 'xlsxwriter' (version '1.3.8' currently installed).\n",
      "  rolling_table.to_excel(f'rolling_table{iter_window}.xlsx')\n"
     ]
    },
    {
     "name": "stdout",
     "output_type": "stream",
     "text": [
      "Excel file created successfully: rolling_table175.xlsx\n",
      "Excel file created successfully: performance175.xlsx\n"
     ]
    },
    {
     "name": "stderr",
     "output_type": "stream",
     "text": [
      "<ipython-input-3-59eb44f7b863>:17: UserWarning: Pandas requires version '1.4.3' or newer of 'xlsxwriter' (version '1.3.8' currently installed).\n",
      "  performance.to_excel(f'performance{iter_window}.xlsx')\n",
      "<ipython-input-3-59eb44f7b863>:23: UserWarning: Pandas requires version '1.4.3' or newer of 'xlsxwriter' (version '1.3.8' currently installed).\n",
      "  rolling_table.to_excel(f'merged_df{iter_window}.xlsx')\n"
     ]
    },
    {
     "name": "stdout",
     "output_type": "stream",
     "text": [
      "Excel file created successfully: merged_df175.xlsx\n",
      "//========= END OF ITERATION : 175 ========= \\\n",
      "//========= START OF ITERATION : 180 ========= \\\n",
      "CPU times: user 2 µs, sys: 4 µs, total: 6 µs\n",
      "Wall time: 8.82 µs\n"
     ]
    },
    {
     "name": "stderr",
     "output_type": "stream",
     "text": [
      "<ipython-input-3-59eb44f7b863>:12: UserWarning: Pandas requires version '1.4.3' or newer of 'xlsxwriter' (version '1.3.8' currently installed).\n",
      "  rolling_table.to_excel(f'rolling_table{iter_window}.xlsx')\n"
     ]
    },
    {
     "name": "stdout",
     "output_type": "stream",
     "text": [
      "Excel file created successfully: rolling_table180.xlsx\n",
      "Excel file created successfully: performance180.xlsx\n"
     ]
    },
    {
     "name": "stderr",
     "output_type": "stream",
     "text": [
      "<ipython-input-3-59eb44f7b863>:17: UserWarning: Pandas requires version '1.4.3' or newer of 'xlsxwriter' (version '1.3.8' currently installed).\n",
      "  performance.to_excel(f'performance{iter_window}.xlsx')\n",
      "<ipython-input-3-59eb44f7b863>:23: UserWarning: Pandas requires version '1.4.3' or newer of 'xlsxwriter' (version '1.3.8' currently installed).\n",
      "  rolling_table.to_excel(f'merged_df{iter_window}.xlsx')\n"
     ]
    },
    {
     "name": "stdout",
     "output_type": "stream",
     "text": [
      "Excel file created successfully: merged_df180.xlsx\n",
      "//========= END OF ITERATION : 180 ========= \\\n",
      "//========= START OF ITERATION : 185 ========= \\\n",
      "CPU times: user 2 µs, sys: 0 ns, total: 2 µs\n",
      "Wall time: 5.01 µs\n"
     ]
    },
    {
     "name": "stderr",
     "output_type": "stream",
     "text": [
      "<ipython-input-3-59eb44f7b863>:12: UserWarning: Pandas requires version '1.4.3' or newer of 'xlsxwriter' (version '1.3.8' currently installed).\n",
      "  rolling_table.to_excel(f'rolling_table{iter_window}.xlsx')\n"
     ]
    },
    {
     "name": "stdout",
     "output_type": "stream",
     "text": [
      "Excel file created successfully: rolling_table185.xlsx\n",
      "Excel file created successfully: performance185.xlsx\n"
     ]
    },
    {
     "name": "stderr",
     "output_type": "stream",
     "text": [
      "<ipython-input-3-59eb44f7b863>:17: UserWarning: Pandas requires version '1.4.3' or newer of 'xlsxwriter' (version '1.3.8' currently installed).\n",
      "  performance.to_excel(f'performance{iter_window}.xlsx')\n",
      "<ipython-input-3-59eb44f7b863>:23: UserWarning: Pandas requires version '1.4.3' or newer of 'xlsxwriter' (version '1.3.8' currently installed).\n",
      "  rolling_table.to_excel(f'merged_df{iter_window}.xlsx')\n"
     ]
    },
    {
     "name": "stdout",
     "output_type": "stream",
     "text": [
      "Excel file created successfully: merged_df185.xlsx\n",
      "//========= END OF ITERATION : 185 ========= \\\n",
      "//========= START OF ITERATION : 190 ========= \\\n",
      "CPU times: user 2 µs, sys: 0 ns, total: 2 µs\n",
      "Wall time: 4.05 µs\n"
     ]
    },
    {
     "name": "stderr",
     "output_type": "stream",
     "text": [
      "<ipython-input-3-59eb44f7b863>:12: UserWarning: Pandas requires version '1.4.3' or newer of 'xlsxwriter' (version '1.3.8' currently installed).\n",
      "  rolling_table.to_excel(f'rolling_table{iter_window}.xlsx')\n"
     ]
    },
    {
     "name": "stdout",
     "output_type": "stream",
     "text": [
      "Excel file created successfully: rolling_table190.xlsx\n",
      "Excel file created successfully: performance190.xlsx\n"
     ]
    },
    {
     "name": "stderr",
     "output_type": "stream",
     "text": [
      "<ipython-input-3-59eb44f7b863>:17: UserWarning: Pandas requires version '1.4.3' or newer of 'xlsxwriter' (version '1.3.8' currently installed).\n",
      "  performance.to_excel(f'performance{iter_window}.xlsx')\n",
      "<ipython-input-3-59eb44f7b863>:23: UserWarning: Pandas requires version '1.4.3' or newer of 'xlsxwriter' (version '1.3.8' currently installed).\n",
      "  rolling_table.to_excel(f'merged_df{iter_window}.xlsx')\n"
     ]
    },
    {
     "name": "stdout",
     "output_type": "stream",
     "text": [
      "Excel file created successfully: merged_df190.xlsx\n",
      "//========= END OF ITERATION : 190 ========= \\\n",
      "//========= START OF ITERATION : 195 ========= \\\n",
      "CPU times: user 2 µs, sys: 1e+03 ns, total: 3 µs\n",
      "Wall time: 3.81 µs\n"
     ]
    },
    {
     "name": "stderr",
     "output_type": "stream",
     "text": [
      "<ipython-input-3-59eb44f7b863>:12: UserWarning: Pandas requires version '1.4.3' or newer of 'xlsxwriter' (version '1.3.8' currently installed).\n",
      "  rolling_table.to_excel(f'rolling_table{iter_window}.xlsx')\n"
     ]
    },
    {
     "name": "stdout",
     "output_type": "stream",
     "text": [
      "Excel file created successfully: rolling_table195.xlsx\n",
      "Excel file created successfully: performance195.xlsx\n"
     ]
    },
    {
     "name": "stderr",
     "output_type": "stream",
     "text": [
      "<ipython-input-3-59eb44f7b863>:17: UserWarning: Pandas requires version '1.4.3' or newer of 'xlsxwriter' (version '1.3.8' currently installed).\n",
      "  performance.to_excel(f'performance{iter_window}.xlsx')\n",
      "<ipython-input-3-59eb44f7b863>:23: UserWarning: Pandas requires version '1.4.3' or newer of 'xlsxwriter' (version '1.3.8' currently installed).\n",
      "  rolling_table.to_excel(f'merged_df{iter_window}.xlsx')\n"
     ]
    },
    {
     "name": "stdout",
     "output_type": "stream",
     "text": [
      "Excel file created successfully: merged_df195.xlsx\n",
      "//========= END OF ITERATION : 195 ========= \\\n",
      "//========= START OF ITERATION : 200 ========= \\\n",
      "CPU times: user 1 µs, sys: 0 ns, total: 1 µs\n",
      "Wall time: 3.81 µs\n"
     ]
    },
    {
     "name": "stderr",
     "output_type": "stream",
     "text": [
      "<ipython-input-3-59eb44f7b863>:12: UserWarning: Pandas requires version '1.4.3' or newer of 'xlsxwriter' (version '1.3.8' currently installed).\n",
      "  rolling_table.to_excel(f'rolling_table{iter_window}.xlsx')\n",
      "<ipython-input-3-59eb44f7b863>:17: UserWarning: Pandas requires version '1.4.3' or newer of 'xlsxwriter' (version '1.3.8' currently installed).\n",
      "  performance.to_excel(f'performance{iter_window}.xlsx')\n"
     ]
    },
    {
     "name": "stdout",
     "output_type": "stream",
     "text": [
      "Excel file created successfully: rolling_table200.xlsx\n",
      "Excel file created successfully: performance200.xlsx\n"
     ]
    },
    {
     "name": "stderr",
     "output_type": "stream",
     "text": [
      "<ipython-input-3-59eb44f7b863>:23: UserWarning: Pandas requires version '1.4.3' or newer of 'xlsxwriter' (version '1.3.8' currently installed).\n",
      "  rolling_table.to_excel(f'merged_df{iter_window}.xlsx')\n"
     ]
    },
    {
     "name": "stdout",
     "output_type": "stream",
     "text": [
      "Excel file created successfully: merged_df200.xlsx\n",
      "//========= END OF ITERATION : 200 ========= \\\n"
     ]
    }
   ],
   "source": [
    "iteration_window = [i for i in range(5, 201) if i % 5 == 0]\n",
    "for iter_window in iteration_window:\n",
    "    print(f'//========= START OF ITERATION : {iter_window} ========= \\\\')\n",
    "    %time\n",
    "    signals = high_low_breakout(excess_returns, iter_window)\n",
    "    converted_signals = convert_signal_to_position(signals)\n",
    "    rolling_table = compute_rolling_table(converted_signals)\n",
    "    performance = pd.DataFrame(rolling_table.groupby('Date')['non_weighted_return'].sum())\n",
    "    performance.rename(columns = {list(performance)[0]: 'strategy_return'}, inplace = True)\n",
    "#     helper.plot_df(pd.merge(commodity_market_factor.cumsum(), performance.cumsum(), on='Date'), title='performance')\n",
    "    try:\n",
    "        rolling_table.to_excel(f'rolling_table{iter_window}.xlsx')\n",
    "        print(f\"Excel file created successfully: rolling_table{iter_window}.xlsx\")\n",
    "    except:\n",
    "        print(f\"ERROR: Could not create excel file: rolling_table{iter_window}.xlsx\")\n",
    "    try:\n",
    "        performance.to_excel(f'performance{iter_window}.xlsx')\n",
    "        print(f\"Excel file created successfully: performance{iter_window}.xlsx\")\n",
    "    except:\n",
    "        print(f\"ERROR: Could not create excel file: performance{iter_window}.xlsx\")\n",
    "    merged_df = pd.merge(commodity_market_factor.cumsum(), performance.cumsum(), on='Date')\n",
    "    try:\n",
    "        merged_df.to_excel(f'merged_df{iter_window}.xlsx')\n",
    "        print(f\"Excel file created successfully: merged_df{iter_window}.xlsx\")\n",
    "    except:\n",
    "        print(f\"ERROR: Could not create excel file: merged_df{iter_window}.xlsx\")\n",
    "    print(f'//========= END OF ITERATION : {iter_window} ========= \\\\')\n"
   ]
  }
 ],
 "metadata": {
  "kernelspec": {
   "display_name": "Python 3",
   "language": "python",
   "name": "python3"
  },
  "language_info": {
   "codemirror_mode": {
    "name": "ipython",
    "version": 3
   },
   "file_extension": ".py",
   "mimetype": "text/x-python",
   "name": "python",
   "nbconvert_exporter": "python",
   "pygments_lexer": "ipython3",
   "version": "3.8.8"
  }
 },
 "nbformat": 4,
 "nbformat_minor": 5
}
