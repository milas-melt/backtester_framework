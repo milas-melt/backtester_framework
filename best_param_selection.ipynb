{
 "cells": [
  {
   "cell_type": "code",
   "execution_count": 2,
   "id": "cdc2303a-7d4b-47c8-bcc9-1dc687950183",
   "metadata": {},
   "outputs": [
    {
     "name": "stdout",
     "output_type": "stream",
     "text": [
      "0.204469148611021\n",
      "0.1596595428621863\n",
      "0.13658252292302483\n",
      "0.12514192639370203\n",
      "0.12363693848573552\n",
      "0.11902838431711413\n",
      "0.11685475874592036\n",
      "0.11455610432950344\n",
      "0.10791935877951749\n",
      "0.10861487287379241\n",
      "0.10863996337812515\n",
      "0.11396742082924578\n",
      "0.1195577428504022\n",
      "0.11290111433533409\n",
      "0.09751013317023818\n",
      "0.09361336327438974\n",
      "0.08677440708098771\n",
      "0.08595779218463595\n",
      "0.08577228850560309\n",
      "0.08410805365496327\n",
      "0.08653748269823337\n",
      "0.08503705304815308\n",
      "0.08812223770240238\n",
      "0.08809978311965855\n",
      "0.08205661384218449\n",
      "0.08673772011917003\n",
      "0.08638340333139412\n",
      "0.08695992535724424\n",
      "0.09117333739298308\n",
      "0.09254230228760305\n",
      "0.0947819506166318\n",
      "0.09184754536140005\n",
      "0.08756960654942836\n",
      "0.09870377441387274\n",
      "0.09953633581419631\n",
      "0.09418956175440124\n",
      "0.09324255994471094\n",
      "0.09423033795264606\n",
      "0.09200628655630545\n",
      "0.09312088098085601\n"
     ]
    },
    {
     "data": {
      "text/plain": [
       "5"
      ]
     },
     "execution_count": 2,
     "metadata": {},
     "output_type": "execute_result"
    }
   ],
   "source": [
    "import pandas as pd\n",
    "import numpy as np\n",
    "# Select the best params\n",
    "params=list(range(5, 201, 5))\n",
    "best=0\n",
    "best_param=0\n",
    "for i in params:\n",
    "    res = pd.read_excel(f'results/windows_iterations/performance{str(i)}.xlsx')\n",
    "    SR = res.strategy_return.mean() / res.strategy_return.std()\n",
    "    print (SR)\n",
    "    if SR > best:\n",
    "        best_param = i\n",
    "        best = SR\n",
    "print(f\"The best param is {best_param}\")"
   ]
  }
 ],
 "metadata": {
  "kernelspec": {
   "display_name": "Python 3",
   "language": "python",
   "name": "python3"
  },
  "language_info": {
   "codemirror_mode": {
    "name": "ipython",
    "version": 3
   },
   "file_extension": ".py",
   "mimetype": "text/x-python",
   "name": "python",
   "nbconvert_exporter": "python",
   "pygments_lexer": "ipython3",
   "version": "3.8.8"
  }
 },
 "nbformat": 4,
 "nbformat_minor": 5
}
